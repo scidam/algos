{
 "cells": [
  {
   "cell_type": "markdown",
   "metadata": {},
   "source": [
    "## Problems and their solutions using NumPy"
   ]
  },
  {
   "cell_type": "markdown",
   "metadata": {},
   "source": [
    "### Content\n",
    "\n",
    " 1. Indices of groups with same value (islands of homoheneity)\n",
    " 2. Indices of first occurences"
   ]
  },
  {
   "cell_type": "markdown",
   "metadata": {},
   "source": [
    "#### Module importing "
   ]
  },
  {
   "cell_type": "code",
   "execution_count": 18,
   "metadata": {},
   "outputs": [],
   "source": [
    "import numpy as np"
   ]
  },
  {
   "cell_type": "code",
   "execution_count": 19,
   "metadata": {},
   "outputs": [
    {
     "data": {
      "text/plain": [
       "array([[ 0,  2],\n",
       "       [ 8,  9],\n",
       "       [16, 19]])"
      ]
     },
     "execution_count": 19,
     "metadata": {},
     "output_type": "execute_result"
    }
   ],
   "source": [
    "# 1\n",
    "y=[1,1,1,0,0,0,0,0,1,1,0,0,0,0,0,0,1,1,1,1]\n",
    "np.flatnonzero(np.diff(np.r_[0,y,0])!=0).reshape(-1,2) - [0,1]"
   ]
  },
  {
   "cell_type": "markdown",
   "metadata": {},
   "source": [
    "\\# 2\n",
    "\n",
    "Suppose we have a data frame and need to find occurences of specified set of elements in a column of that data frame. In this case pd.Series.searchsorted is a good choice."
   ]
  },
  {
   "cell_type": "code",
   "execution_count": 7,
   "metadata": {},
   "outputs": [
    {
     "name": "stdout",
     "output_type": "stream",
     "text": [
      "[1 3 4 5]\n",
      "[0 3 5 6]\n",
      "   x\n",
      "0  1\n",
      "3  3\n",
      "5  4\n",
      "6  5\n"
     ]
    }
   ],
   "source": [
    "# 2\n",
    "import numpy as np\n",
    "import pandas as pd\n",
    "data = pd.DataFrame({'x': [1, 1, 1, 3, 3, 4, 5]})\n",
    "values = [1, 3, 4, 5]\n",
    "common_values = np.intersect1d(data.x.values, values)\n",
    "print(common_values)\n",
    "print(data.x.searchsorted(common_values))\n",
    "print(data.loc[data.x.searchsorted(common_values)])"
   ]
  },
  {
   "cell_type": "markdown",
   "metadata": {},
   "source": [
    "\\# 3. Based on https://gist.github.com/nlintz/f5bde5df8eee57472954\n",
    "\n",
    "\n",
    "Convert an image to a set of patches and back again."
   ]
  },
  {
   "cell_type": "code",
   "execution_count": null,
   "metadata": {},
   "outputs": [],
   "source": [
    "import numpy as np \n",
    "from skimage.util import view_as_blocks\n",
    "\n",
    "def image_to_patches(img, patch_shape):\n",
    "    \"\"\"\n",
    "        converts an image into M patch_shaped chunks\n",
    "        arguments --\n",
    "        img: [rows, cols, nchannels]\n",
    "        patch_shape: (rows, cols, nchannels)\n",
    "        returns --\n",
    "        [M, patch_shape[0], patch_shape[1], nchannels]\n",
    "    \"\"\"\n",
    "\n",
    "    blocks = view_as_blocks(img, patch_shape)\n",
    "    return blocks.reshape((-1,) + patch_shape, order=\"F\")\n",
    "\n",
    "\n",
    "def patches_to_image(patches, patch_shape, img_shape):\n",
    "    \"\"\"\n",
    "        converts result from image_to_patches back into an image of the\n",
    "        original image's shape\n",
    "        patches: [n_patches, rows, cols, nchannels]\n",
    "        patch_shape: (rows, cols, nchannels)\n",
    "        img_shape: (rows, cols, nchannels)\n",
    "    \"\"\"\n",
    "\n",
    "    patches_per_col = img_shape[0] // patch_shape[0]\n",
    "    res = []\n",
    "    for i in range(0, patches_per_col):\n",
    "        res.append(np.concatenate(patches[i::patches_per_col], axis=1))\n",
    "    return np.array(res)"
   ]
  }
 ],
 "metadata": {
  "kernelspec": {
   "display_name": "Python 3",
   "language": "python",
   "name": "python3"
  },
  "language_info": {
   "codemirror_mode": {
    "name": "ipython",
    "version": 3
   },
   "file_extension": ".py",
   "mimetype": "text/x-python",
   "name": "python",
   "nbconvert_exporter": "python",
   "pygments_lexer": "ipython3",
   "version": "3.5.4"
  }
 },
 "nbformat": 4,
 "nbformat_minor": 2
}
